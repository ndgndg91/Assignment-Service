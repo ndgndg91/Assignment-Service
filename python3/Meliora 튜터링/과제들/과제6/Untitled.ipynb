{
 "cells": [
  {
   "cell_type": "code",
   "execution_count": 1,
   "metadata": {
    "scrolled": true
   },
   "outputs": [
    {
     "name": "stdout",
     "output_type": "stream",
     "text": [
      "['C11', 'B1', 'A']\n",
      "['C12', 'B1', 'A']\n",
      "['B1', 'A']\n",
      "['C22', 'B2', 'A']\n"
     ]
    }
   ],
   "source": [
    "tax_dict={\"C11\":\"B1\",\"C12\":\"B1\",\"C21\":\"B2\",\"C22\":\"B2\",\"B1\":\"A\",\"B2\":\"A\"}\n",
    "def parse(data,node):\n",
    "    results = [node]\n",
    "    children=data.get(node) # Use the key in dictionary to get the parent node\n",
    "    if(children is None): # If the child node no longer has a parent node, it exits the function.\n",
    "        return results\n",
    "    results.extend(parse(data,children)) #recursion\n",
    "\n",
    "\n",
    "\n",
    "    return results\n",
    "\n",
    "print(parse(tax_dict,\"C11\")) # C11 -> B1 -> A\n",
    "print(parse(tax_dict,\"C12\")) # C12 -> B1 -> A\n",
    "print(parse(tax_dict,\"B1\")) # B1 -> A\n",
    "print(parse(tax_dict,\"C22\")) #C22 -> B2 -> A\n"
   ]
  },
  {
   "cell_type": "code",
   "execution_count": null,
   "metadata": {},
   "outputs": [],
   "source": []
  }
 ],
 "metadata": {
  "kernelspec": {
   "display_name": "Python 3",
   "language": "python",
   "name": "python3"
  },
  "language_info": {
   "codemirror_mode": {
    "name": "ipython",
    "version": 3
   },
   "file_extension": ".py",
   "mimetype": "text/x-python",
   "name": "python",
   "nbconvert_exporter": "python",
   "pygments_lexer": "ipython3",
   "version": "3.5.2"
  }
 },
 "nbformat": 4,
 "nbformat_minor": 2
}
