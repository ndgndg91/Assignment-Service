{
 "cells": [
  {
   "cell_type": "code",
   "execution_count": 41,
   "metadata": {},
   "outputs": [
    {
     "name": "stdout",
     "output_type": "stream",
     "text": [
      "ATCGATCGATCGATCGACTGACTAGTCATAGCTATGCATGTAGCTACTCGATCGATCGATCG\n"
     ]
    }
   ],
   "source": [
    "# Number 1\n",
    "seq=\"ATCGATCGATCGATCGACTGACTAGTCATAGCTATGCATGTAGCTACTCGATCGATCGATCGATCGATCGATCGATCGATCGATCATGCTATCATCGATCGATATCGATGCATCGACTACTAT\"\n",
    "# seq is my variable\n",
    "seq_1=seq[0:62] # DNA is cut from 0 to 62\n",
    "print(seq_1)\n",
    "file=open(\"file#1.txt\",\"w+\")\n",
    "# open file#1 for writing and create \n",
    "file.write(\"ATCGATCGATCGATCGACTGACTAGTCATAGCTATGCATGTAGCTACTCGATCGATCGATCG\")\n",
    "file.close()"
   ]
  },
  {
   "cell_type": "code",
   "execution_count": 49,
   "metadata": {},
   "outputs": [
    {
     "name": "stdout",
     "output_type": "stream",
     "text": [
      "TCGATCGATCGATCGATCGATCATGCT\n"
     ]
    }
   ],
   "source": [
    "intron=seq[63:90] # the number of DNA from 63 to 90 is selected\n",
    "print(intron)\n",
    "file=open(\"file#2.txt\",\"w+\") \n",
    "# open file#2 for writing and create \n",
    "file.write(\"TCGATCGATCGATCGATCGATCATGCT\")\n",
    "file.close()\n",
    "# Write and Close for all works"
   ]
  },
  {
   "cell_type": "code",
   "execution_count": 50,
   "metadata": {},
   "outputs": [],
   "source": [
    "# Number 2(a)\n",
    "seq_1=\"ATCGTACGATCGATCGATCGCTAGACGTATCG\"\n",
    "seq_2=\"actgatcgacgatcgatcgatcacgact\"\n",
    "seq_3=\"ACTGAC-ACTGT-ACTGTA---CATGTG\"\n",
    "# all sequences are my variable\n",
    "file=open(\"file#3.fa\",\"w+\")\n",
    "# open file#2 for writing and create \n",
    "List=[\"seq_1\",\"seq_2\",\"seq_3\"] \n",
    "seq_List=[\"ATCGTACGATCGATCGATCGCTAGACGTATCG\",str(seq_2.upper()),\"ACTGAC-ACTGT-ACTGTA---CATGTG\"]\n",
    "# The List is made by divided for each sequence and seq_2 is changed by upper letter.\n",
    "for i in range (3):\n",
    "    file.write(\">\"+str(List[i])+\"\\n\"+str(seq_List[i])+\"\\n\")\n",
    "file.close()\n",
    "# Create files, write, and close for all works \n",
    "\n"
   ]
  },
  {
   "cell_type": "code",
   "execution_count": 51,
   "metadata": {},
   "outputs": [],
   "source": [
    "# Number 2(b)\n",
    "# making separate files for all given sequence \n",
    "seq_1=\"ATCGTACGATCGATCGATCGCTAGACGTATCG\"\n",
    "seq_2=\"actgatcgacgatcgatcgatcacgact\"\n",
    "seq_3=\"ACTGAC-ACTGT-ACTGTA---CATGTG\"\n",
    "# all sequences are my variable\n",
    "file=open(\"seq_1.fa\",\"w+\")\n",
    "\n",
    "List=[\"seq_1\",\"seq_2\",\"seq_3\"]\n",
    "seq_List=[\"ATCGTACGATCGATCGATCGCTAGACGTATCG\",str(seq_2.upper()),\"ACTGAC-ACTGT-ACTGTA---CATGTG\"]\n",
    "file.write(\">\"+seq_1[0]+\"\\n\"+seq_2[0])\n",
    "file.close()"
   ]
  },
  {
   "cell_type": "code",
   "execution_count": 52,
   "metadata": {
    "collapsed": true
   },
   "outputs": [],
   "source": [
    "# here is the same producere as above first cell but the other sequnce to follow\n",
    "seq_1=\"ATCGTACGATCGATCGATCGCTAGACGTATCG\"\n",
    "seq_2=\"actgatcgacgatcgatcgatcacgact\"\n",
    "seq_3=\"ACTGAC-ACTGT-ACTGTA---CATGTG\"\n",
    "# all sequences are my variable\n",
    "file=open(\"seq_2.fa\",\"w+\")\n",
    "\n",
    "List=[\"seq_1\",\"seq_2\",\"seq_3\"]\n",
    "seq_List=[\"ATCGTACGATCGATCGATCGCTAGACGTATCG\",str(seq_2.upper()),\"ACTGAC-ACTGT-ACTGTA---CATGTG\"]\n",
    "file.write(\">\"+seq_2[1]+\"\\n\"+seq_3[1])\n",
    "file.close()"
   ]
  },
  {
   "cell_type": "code",
   "execution_count": 55,
   "metadata": {
    "collapsed": true
   },
   "outputs": [],
   "source": [
    "# here is the same producere to follow but the other sequence without first and second cell\n",
    "seq_1=\"ATCGTACGATCGATCGATCGCTAGACGTATCG\"\n",
    "seq_2=\"actgatcgacgatcgatcgatcacgact\"\n",
    "seq_3=\"ACTGAC-ACTGT-ACTGTA---CATGTG\"\n",
    "# all sequences are my variable\n",
    "file=open(\"seq_3.fa\",\"w+\")\n",
    "\n",
    "List=[\"seq_1\",\"seq_2\",\"seq_3\"]\n",
    "seq_List=[\"ATCGTACGATCGATCGATCGCTAGACGTATCG\",str(seq_2.upper()),\"ACTGAC-ACTGT-ACTGTA---CATGTG\"]\n",
    "file.write(\">\"+seq_3[2]+\"\\n\"+seq_1[2])\n",
    "file.close()"
   ]
  },
  {
   "cell_type": "code",
   "execution_count": 38,
   "metadata": {},
   "outputs": [],
   "source": [
    "# Number 3 (1)\n",
    "# trim and write all the sequnce\n",
    "\n",
    "fileq=open(\"fileq.txt\",\"r\")\n",
    "file_5=open(\"file_5.txt\",\"w+\")\n",
    "for line in fileq:\n",
    "    file_5.write(str(line[14:]))\n",
    "fileq.close()\n",
    "file_5.close()"
   ]
  },
  {
   "cell_type": "code",
   "execution_count": 54,
   "metadata": {},
   "outputs": [
    {
     "ename": "SyntaxError",
     "evalue": "invalid syntax (<ipython-input-54-1477974a3d90>, line 8)",
     "output_type": "error",
     "traceback": [
      "\u001b[1;36m  File \u001b[1;32m\"<ipython-input-54-1477974a3d90>\"\u001b[1;36m, line \u001b[1;32m8\u001b[0m\n\u001b[1;33m    file_5.close()\u001b[0m\n\u001b[1;37m         ^\u001b[0m\n\u001b[1;31mSyntaxError\u001b[0m\u001b[1;31m:\u001b[0m invalid syntax\n"
     ]
    }
   ],
   "source": [
    "# Number 3 (2)\n",
    "# print the length of the trimmed sequnce\n",
    "\n",
    "file_5=open(\"file_5.txt\",\"r\")\n",
    "for line in file_5:\n",
    "    print(\"The length of the sequence\" + str(line) + \"is\" + str(len(line)+\".\")\n",
    "\n",
    "file_5.close()\n",
    "\n",
    "* I did correctly following the method but I didn't know why syntaxError was shown on the bottle after this box"
   ]
  }
 ],
 "metadata": {
  "kernelspec": {
   "display_name": "Python 3",
   "language": "python",
   "name": "python3"
  },
  "language_info": {
   "codemirror_mode": {
    "name": "ipython",
    "version": 3
   },
   "file_extension": ".py",
   "mimetype": "text/x-python",
   "name": "python",
   "nbconvert_exporter": "python",
   "pygments_lexer": "ipython3",
   "version": "3.6.1"
  }
 },
 "nbformat": 4,
 "nbformat_minor": 2
}
